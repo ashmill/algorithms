{
 "cells": [
  {
   "cell_type": "markdown",
   "metadata": {},
   "source": [
    "**Dynamic Programming\n",
    "\n",
    "Here is a good resource for generating random strings:\n",
    "http://www.unit-conversion.info/texttools/random-string-generator/\n"
   ]
  },
  {
   "cell_type": "markdown",
   "metadata": {},
   "source": [
    "DPV 6.8\n",
    "Longest Common Substring\n"
   ]
  },
  {
   "cell_type": "code",
   "execution_count": 1,
   "metadata": {},
   "outputs": [
    {
     "name": "stdout",
     "output_type": "stream",
     "text": [
      "Longest Common Substring:  5\n"
     ]
    }
   ],
   "source": [
    "x = \"IVOARPPMCAFQOKPYOVXPDUIAEHBNRUSO\"\n",
    "y = \"NEGAFYXWMXBYGENYFQOKPXBMWTAHAMBDKAUV\"\n",
    "L = [[0 for j in range(len(y))] for i in range(len(x))]\n",
    "lcs = 0\n",
    "for i in range(1, len(x)):\n",
    "  for j in range(1, len(y)):\n",
    "    if x[i] == y[j]:\n",
    "        L[i][j] = max(L[i][j-1], L[i-1][j], L[i-1][j-1]) + 1\n",
    "        if L[i][j] > lcs:\n",
    "            lcs = L[i][j]\n",
    "    else: \n",
    "        L[i][j] = 0\n",
    "\n",
    "print ('Longest Common Substring: ', lcs)\n",
    " "
   ]
  },
  {
   "cell_type": "markdown",
   "metadata": {},
   "source": [
    "DPV 6.18\n",
    "Making change\n"
   ]
  },
  {
   "cell_type": "code",
   "execution_count": 23,
   "metadata": {},
   "outputs": [
    {
     "name": "stdout",
     "output_type": "stream",
     "text": [
      "1\n"
     ]
    }
   ],
   "source": [
    "x = [1, 2, 3, 5, 7]\n",
    "y = 9\n",
    "\n",
    "\n",
    "# the number of denominations we have for making change\n",
    "n = len(x)\n",
    "\n",
    "D = [[0 for j in range(0,y)] for i in range(0,n)]\n",
    "\n",
    "# Can we make change? 1=True, 0=False\n",
    "D[0][0] = 1\n",
    "\n",
    "for i in range(1, n):\n",
    "  for j in range(0, y):\n",
    "    if x[i] <= j:\n",
    "      D[i][j] = D[i-1][j] | D[i-1][j-x[i]]\n",
    "    else:\n",
    "      D[i][j] = D[i-1][j]\n",
    "\n",
    "print(D[n-1][y-1])\n",
    "    "
   ]
  },
  {
   "cell_type": "code",
   "execution_count": null,
   "metadata": {},
   "outputs": [],
   "source": []
  },
  {
   "cell_type": "code",
   "execution_count": null,
   "metadata": {},
   "outputs": [],
   "source": []
  },
  {
   "cell_type": "code",
   "execution_count": null,
   "metadata": {},
   "outputs": [],
   "source": []
  }
 ],
 "metadata": {
  "kernelspec": {
   "display_name": "Python 3",
   "language": "python",
   "name": "python3"
  },
  "language_info": {
   "codemirror_mode": {
    "name": "ipython",
    "version": 3
   },
   "file_extension": ".py",
   "mimetype": "text/x-python",
   "name": "python",
   "nbconvert_exporter": "python",
   "pygments_lexer": "ipython3",
   "version": "3.6.8"
  }
 },
 "nbformat": 4,
 "nbformat_minor": 2
}

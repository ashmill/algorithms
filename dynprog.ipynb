{
 "cells": [
  {
   "cell_type": "markdown",
   "metadata": {},
   "source": [
    "**Dynamic Programming\n",
    "\n",
    "Here is a good resource for generating random strings:\n",
    "http://www.unit-conversion.info/texttools/random-string-generator/\n"
   ]
  },
  {
   "cell_type": "code",
   "execution_count": 38,
   "metadata": {},
   "outputs": [
    {
     "name": "stdout",
     "output_type": "stream",
     "text": [
      "Random String x= CBDBEBGCHCBBHGFFBCABBHFCGGEABHFCEHCGFHGHFCBDHHGEGFDCGGCCBDFFDADE\n",
      "Random String y= GDFDGEBDFCBDBHBGDHBHDHGCCGCACFHFEEBDECCFFEDAFAHFAFEHFBGEGEAGHACC\n"
     ]
    }
   ],
   "source": [
    "# random string generator\n",
    "import random\n",
    "import string\n",
    "\n",
    "# stringLength: the length of the string to return\n",
    "# listLength: how many characters should be in the list to choose from\n",
    "def randomString(stringLength=64, listLength=8):\n",
    "    letters = string.ascii_uppercase[:listLength]\n",
    "    return ''.join(random.choice(letters) for i in range(stringLength))\n",
    "\n",
    "x = randomString()\n",
    "y = randomString()\n",
    "\n",
    "print (\"Random String x=\", x )\n",
    "print (\"Random String y=\", y )\n",
    "\n"
   ]
  },
  {
   "cell_type": "markdown",
   "metadata": {},
   "source": [
    "**DPV 6.8\n",
    "Longest Common Substring\n"
   ]
  },
  {
   "cell_type": "code",
   "execution_count": 39,
   "metadata": {},
   "outputs": [
    {
     "name": "stdout",
     "output_type": "stream",
     "text": [
      "Random String is: CBDBEBGCHCBBHGFFBCABBHFCGGEABHFCEHCGFHGHFCBDHHGEGFDCGGCCBDFFDADE\n",
      "Random String is: GDFDGEBDFCBDBHBGDHBHDHGCCGCACFHFEEBDECCFFEDAFAHFAFEHFBGEGEAGHACC\n",
      "Longest Common Substring:  6\n"
     ]
    }
   ],
   "source": [
    "# random strings x and y are created in the previous code block\n",
    "\n",
    "print (\"Random String is:\", x )\n",
    "print (\"Random String is:\", y )\n",
    "\n",
    "L = [[0 for j in range(len(y))] for i in range(len(x))]\n",
    "lcs = 0\n",
    "for i in range(1, len(x)):\n",
    "  for j in range(1, len(y)):\n",
    "    if x[i] == y[j]:\n",
    "        L[i][j] = max(L[i][j-1], L[i-1][j], L[i-1][j-1]) + 1\n",
    "        if L[i][j] > lcs:\n",
    "            lcs = L[i][j]\n",
    "    else: \n",
    "        L[i][j] = 0\n",
    "\n",
    "print ('Longest Common Substring: ', lcs)\n",
    " "
   ]
  },
  {
   "cell_type": "markdown",
   "metadata": {},
   "source": [
    "**DPV 6.18\n",
    "Making change\n"
   ]
  },
  {
   "cell_type": "code",
   "execution_count": 20,
   "metadata": {},
   "outputs": [
    {
     "name": "stdout",
     "output_type": "stream",
     "text": [
      "1\n"
     ]
    }
   ],
   "source": [
    "x = [1, 2, 3, 5, 7]\n",
    "y = 9\n",
    "\n",
    "\n",
    "# the number of denominations we have for making change\n",
    "n = len(x)\n",
    "\n",
    "D = [[0 for j in range(0,y)] for i in range(0,n)]\n",
    "\n",
    "# Can we make change? 1=True, 0=False\n",
    "D[0][0] = 1\n",
    "\n",
    "for i in range(1, n):\n",
    "  for j in range(0, y):\n",
    "    if x[i] <= j:\n",
    "      D[i][j] = D[i-1][j] | D[i-1][j-x[i]]\n",
    "    else:\n",
    "      D[i][j] = D[i-1][j]\n",
    "\n",
    "print(D[n-1][y-1])\n",
    "    "
   ]
  },
  {
   "cell_type": "markdown",
   "metadata": {},
   "source": []
  },
  {
   "cell_type": "code",
   "execution_count": null,
   "metadata": {},
   "outputs": [],
   "source": []
  },
  {
   "cell_type": "code",
   "execution_count": null,
   "metadata": {},
   "outputs": [],
   "source": []
  }
 ],
 "metadata": {
  "kernelspec": {
   "display_name": "Python 3",
   "language": "python",
   "name": "python3"
  },
  "language_info": {
   "codemirror_mode": {
    "name": "ipython",
    "version": 3
   },
   "file_extension": ".py",
   "mimetype": "text/x-python",
   "name": "python",
   "nbconvert_exporter": "python",
   "pygments_lexer": "ipython3",
   "version": "3.6.8"
  }
 },
 "nbformat": 4,
 "nbformat_minor": 2
}
